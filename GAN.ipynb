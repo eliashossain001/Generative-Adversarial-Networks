{
  "nbformat": 4,
  "nbformat_minor": 0,
  "metadata": {
    "colab": {
      "name": "GAN.ipynb",
      "provenance": []
    },
    "kernelspec": {
      "name": "python3",
      "display_name": "Python 3"
    }
  },
  "cells": [
    {
      "cell_type": "markdown",
      "metadata": {
        "id": "2ozYebGNQ6PI"
      },
      "source": [
        "**Generator**"
      ]
    },
    {
      "cell_type": "code",
      "metadata": {
        "id": "vFsv_A0_Q-84"
      },
      "source": [
        "from keras.models import Sequential\r\n",
        "from keras.layers import Dense, BatchNormalization, Reshape,Flatten\r\n"
      ],
      "execution_count": 11,
      "outputs": []
    },
    {
      "cell_type": "code",
      "metadata": {
        "id": "Dm4Ii1HxRiuv"
      },
      "source": [
        "generator= Sequential()\r\n",
        "generator.add(Dense(128, activation=\"relu\", input_shape=(100,)))\r\n",
        "generator.add(BatchNormalization())\r\n",
        "\r\n",
        "kernel_size=128\r\n",
        "for i in range(3):\r\n",
        "  kernel_size= kernel_size*2\r\n",
        "  generator.add(Dense(kernel_size, activation=\"relu\"))\r\n",
        "  generator.add(BatchNormalization())\r\n",
        "  \r\n",
        "\r\n",
        "generator.add(Dense(28*28*1, activation=\"relu\"))\r\n",
        "generator.add(Reshape((28,28,1)))"
      ],
      "execution_count": 7,
      "outputs": []
    },
    {
      "cell_type": "code",
      "metadata": {
        "id": "0Vw9TN0dTQIP"
      },
      "source": [
        "generator.compile(loss=\"binary_crossentropy\", optimizer= \"adam\")"
      ],
      "execution_count": 8,
      "outputs": []
    },
    {
      "cell_type": "code",
      "metadata": {
        "colab": {
          "base_uri": "https://localhost:8080/"
        },
        "id": "PSxmPmtzUfF_",
        "outputId": "24a0aabf-5205-47ac-cb11-1fef719b9284"
      },
      "source": [
        "generator.summary()"
      ],
      "execution_count": 9,
      "outputs": [
        {
          "output_type": "stream",
          "text": [
            "Model: \"sequential_3\"\n",
            "_________________________________________________________________\n",
            "Layer (type)                 Output Shape              Param #   \n",
            "=================================================================\n",
            "dense_14 (Dense)             (None, 128)               12928     \n",
            "_________________________________________________________________\n",
            "batch_normalization_12 (Batc (None, 128)               512       \n",
            "_________________________________________________________________\n",
            "dense_15 (Dense)             (None, 256)               33024     \n",
            "_________________________________________________________________\n",
            "batch_normalization_13 (Batc (None, 256)               1024      \n",
            "_________________________________________________________________\n",
            "dense_16 (Dense)             (None, 512)               131584    \n",
            "_________________________________________________________________\n",
            "batch_normalization_14 (Batc (None, 512)               2048      \n",
            "_________________________________________________________________\n",
            "dense_17 (Dense)             (None, 1024)              525312    \n",
            "_________________________________________________________________\n",
            "batch_normalization_15 (Batc (None, 1024)              4096      \n",
            "_________________________________________________________________\n",
            "dense_18 (Dense)             (None, 784)               803600    \n",
            "_________________________________________________________________\n",
            "reshape (Reshape)            (None, 28, 28, 1)         0         \n",
            "=================================================================\n",
            "Total params: 1,514,128\n",
            "Trainable params: 1,510,288\n",
            "Non-trainable params: 3,840\n",
            "_________________________________________________________________\n"
          ],
          "name": "stdout"
        }
      ]
    },
    {
      "cell_type": "markdown",
      "metadata": {
        "id": "5HaAYcJRVHMT"
      },
      "source": [
        "**Discriminator**"
      ]
    },
    {
      "cell_type": "code",
      "metadata": {
        "id": "oIXbsBqYVFW0"
      },
      "source": [
        "discriminator= Sequential()\r\n",
        "discriminator.add(Flatten(input_shape=(28,28,1)))\r\n",
        "discriminator.add(Dense(1024, activation=\"relu\", input_shape=(28*28*1, )))\r\n",
        "discriminator.add(Dense(512, activation=\"relu\"))\r\n",
        "discriminator.add(Dense(256, activation=\"relu\"))\r\n",
        "discriminator.add(Dense(128, activation=\"relu\"))\r\n",
        "\r\n",
        "discriminator.add(Dense(1, activation=\"sigmoid\"))"
      ],
      "execution_count": 12,
      "outputs": []
    },
    {
      "cell_type": "code",
      "metadata": {
        "id": "IBb81DkyVFdH"
      },
      "source": [
        "discriminator.compile(loss=\"binary_crossentropy\", optimizer= \"adam\")"
      ],
      "execution_count": 13,
      "outputs": []
    },
    {
      "cell_type": "code",
      "metadata": {
        "colab": {
          "base_uri": "https://localhost:8080/"
        },
        "id": "GZLRWxHwVFpF",
        "outputId": "ecdd58a4-07d0-49c8-bf9f-0487389f01b9"
      },
      "source": [
        "discriminator.summary()"
      ],
      "execution_count": 14,
      "outputs": [
        {
          "output_type": "stream",
          "text": [
            "Model: \"sequential_5\"\n",
            "_________________________________________________________________\n",
            "Layer (type)                 Output Shape              Param #   \n",
            "=================================================================\n",
            "flatten (Flatten)            (None, 784)               0         \n",
            "_________________________________________________________________\n",
            "dense_19 (Dense)             (None, 1024)              803840    \n",
            "_________________________________________________________________\n",
            "dense_20 (Dense)             (None, 512)               524800    \n",
            "_________________________________________________________________\n",
            "dense_21 (Dense)             (None, 256)               131328    \n",
            "_________________________________________________________________\n",
            "dense_22 (Dense)             (None, 128)               32896     \n",
            "_________________________________________________________________\n",
            "dense_23 (Dense)             (None, 1)                 129       \n",
            "=================================================================\n",
            "Total params: 1,492,993\n",
            "Trainable params: 1,492,993\n",
            "Non-trainable params: 0\n",
            "_________________________________________________________________\n"
          ],
          "name": "stdout"
        }
      ]
    },
    {
      "cell_type": "markdown",
      "metadata": {
        "id": "jyrP8G4QYXZz"
      },
      "source": [
        "**Adversial (GAN) Networks**"
      ]
    },
    {
      "cell_type": "code",
      "metadata": {
        "id": "zYpZI5UZYdU7"
      },
      "source": [
        "gan= Sequential()\r\n",
        "discriminator.trainable= False\r\n",
        "generator.trainable= True\r\n",
        "gan.add(generator)\r\n",
        "gan.add(discriminator)"
      ],
      "execution_count": 21,
      "outputs": []
    },
    {
      "cell_type": "code",
      "metadata": {
        "id": "xVVhEWlfZDs4"
      },
      "source": [
        "gan.compile(loss='binary_crossentropy', optimizer=\"adam\")"
      ],
      "execution_count": 18,
      "outputs": []
    },
    {
      "cell_type": "code",
      "metadata": {
        "colab": {
          "base_uri": "https://localhost:8080/"
        },
        "id": "0iJg2P8JZLR0",
        "outputId": "40b7d8f7-5f40-4650-8892-1608f95307b8"
      },
      "source": [
        "gan.summary()"
      ],
      "execution_count": 19,
      "outputs": [
        {
          "output_type": "stream",
          "text": [
            "Model: \"sequential_6\"\n",
            "_________________________________________________________________\n",
            "Layer (type)                 Output Shape              Param #   \n",
            "=================================================================\n",
            "sequential_3 (Sequential)    (None, 28, 28, 1)         1514128   \n",
            "_________________________________________________________________\n",
            "sequential_5 (Sequential)    (None, 1)                 1492993   \n",
            "=================================================================\n",
            "Total params: 3,007,121\n",
            "Trainable params: 1,510,288\n",
            "Non-trainable params: 1,496,833\n",
            "_________________________________________________________________\n"
          ],
          "name": "stdout"
        }
      ]
    },
    {
      "cell_type": "markdown",
      "metadata": {
        "id": "EbZFXrYjsHid"
      },
      "source": [
        "**LOAD MNIST**"
      ]
    },
    {
      "cell_type": "code",
      "metadata": {
        "id": "tOQPcFeV22NR"
      },
      "source": [
        "import keras\r\n",
        "import numpy as np\r\n",
        "from keras.datasets import mnist"
      ],
      "execution_count": 38,
      "outputs": []
    },
    {
      "cell_type": "code",
      "metadata": {
        "id": "Zx_GIiJ7m7v9"
      },
      "source": [
        "model_type = -1\r\n",
        "def load_MNIST(model_type):\r\n",
        "\r\n",
        "    allowed_types = [-1,0,1,2,3,4,5,6,7,8,9]\r\n",
        "\r\n",
        "    if model_type not in allowed_types:\r\n",
        "        print('ERROR: Only Integer Values from -1 to 9 are allowed')\r\n",
        "\r\n",
        "    (X_train, Y_train), (_, _) = mnist.load_data()\r\n",
        "    \r\n",
        "    xxx = X_train\r\n",
        "#     print(\"X_train: \", X_train.shape)\r\n",
        "    if model_type!=-1:\r\n",
        "        X_train = X_train[np.where(Y_train==int(model_type)) [0]]\r\n",
        "        print(\"X_train: \", X_train.shape)\r\n",
        "\r\n",
        "    X_train = ( np.float32(X_train) - 127.5) / 127.5\r\n",
        "#     X_train = np.expand_dims(X_train, axis=3)\r\n",
        "    \r\n",
        "    return X_train, Y_train, xxx"
      ],
      "execution_count": 39,
      "outputs": []
    },
    {
      "cell_type": "code",
      "metadata": {
        "colab": {
          "base_uri": "https://localhost:8080/"
        },
        "id": "tMx8e4ni0m32",
        "outputId": "6175ea76-b220-431c-88d4-092864a6f288"
      },
      "source": [
        "pip install mnist"
      ],
      "execution_count": 26,
      "outputs": [
        {
          "output_type": "stream",
          "text": [
            "Collecting mnist\n",
            "  Downloading https://files.pythonhosted.org/packages/c6/c4/5db3bfe009f8d71f1d532bbadbd0ec203764bba3a469e4703a889db8e5e0/mnist-0.2.2-py2.py3-none-any.whl\n",
            "Requirement already satisfied: numpy in /usr/local/lib/python3.6/dist-packages (from mnist) (1.19.5)\n",
            "Installing collected packages: mnist\n",
            "Successfully installed mnist-0.2.2\n"
          ],
          "name": "stdout"
        }
      ]
    },
    {
      "cell_type": "code",
      "metadata": {
        "colab": {
          "base_uri": "https://localhost:8080/"
        },
        "id": "xxRWUB6k0LBO",
        "outputId": "72dc0106-6132-4420-80ce-ff58a25a9fba"
      },
      "source": [
        "X_train, Y_train, xxx = load_MNIST(model_type=3)"
      ],
      "execution_count": 40,
      "outputs": [
        {
          "output_type": "stream",
          "text": [
            "X_train:  (6131, 28, 28)\n"
          ],
          "name": "stdout"
        }
      ]
    },
    {
      "cell_type": "code",
      "metadata": {
        "colab": {
          "base_uri": "https://localhost:8080/",
          "height": 265
        },
        "id": "MGeTzgGa3_Ug",
        "outputId": "6766ef3b-7b0c-4d3c-bf77-0f5f0f17ef4b"
      },
      "source": [
        "import matplotlib.pyplot as plt \r\n",
        "img = plt.imshow(X_train[0])"
      ],
      "execution_count": 42,
      "outputs": [
        {
          "output_type": "display_data",
          "data": {
            "image/png": "[encoded data removed]",
            "text/plain": [
              "<Figure size 432x288 with 1 Axes>"
            ]
          },
          "metadata": {
            "tags": [],
            "needs_background": "light"
          }
        }
      ]
    },
    {
      "cell_type": "markdown",
      "metadata": {
        "id": "Y6NDgv4I4Ovr"
      },
      "source": [
        "**Grab a batch**"
      ]
    },
    {
      "cell_type": "code",
      "metadata": {
        "colab": {
          "base_uri": "https://localhost:8080/"
        },
        "id": "FlD6oTQ04SCa",
        "outputId": "0b8d5dff-34ce-47fb-964c-5d1eda829a09"
      },
      "source": [
        "from random import randint\r\n",
        "\r\n",
        "# Grab a batch\r\n",
        "count_real_images = int(32/2)\r\n",
        "starting_index = randint(0, (len(X_train) - count_real_images ))\r\n",
        "starting_index"
      ],
      "execution_count": 43,
      "outputs": [
        {
          "output_type": "execute_result",
          "data": {
            "text/plain": [
              "4688"
            ]
          },
          "metadata": {
            "tags": []
          },
          "execution_count": 43
        }
      ]
    },
    {
      "cell_type": "code",
      "metadata": {
        "colab": {
          "base_uri": "https://localhost:8080/"
        },
        "id": "JXAtyVjy4Z8V",
        "outputId": "97fea0ff-6cf8-4cee-c1bb-6758af98317c"
      },
      "source": [
        "real_images_raw = X_train[starting_index : (starting_index + count_real_images)]\r\n",
        "real_images_raw.shape"
      ],
      "execution_count": 44,
      "outputs": [
        {
          "output_type": "execute_result",
          "data": {
            "text/plain": [
              "(16, 28, 28)"
            ]
          },
          "metadata": {
            "tags": []
          },
          "execution_count": 44
        }
      ]
    },
    {
      "cell_type": "code",
      "metadata": {
        "colab": {
          "base_uri": "https://localhost:8080/",
          "height": 265
        },
        "id": "pJbsNE3q4dgL",
        "outputId": "623c0be2-e732-4a90-adb0-5db3f1365628"
      },
      "source": [
        "img = plt.imshow(real_images_raw[0])"
      ],
      "execution_count": 45,
      "outputs": [
        {
          "output_type": "display_data",
          "data": {
            "image/png": "[encoded data removed]",
            "text/plain": [
              "<Figure size 432x288 with 1 Axes>"
            ]
          },
          "metadata": {
            "tags": [],
            "needs_background": "light"
          }
        }
      ]
    },
    {
      "cell_type": "code",
      "metadata": {
        "colab": {
          "base_uri": "https://localhost:8080/"
        },
        "id": "7yVSTpHy4kI7",
        "outputId": "a39e00f7-36b6-4ec2-9eb6-7b30d740d94b"
      },
      "source": [
        "x_real_images = real_images_raw.reshape(count_real_images, 28, 28, 1)\r\n",
        "x_real_images.shape"
      ],
      "execution_count": 46,
      "outputs": [
        {
          "output_type": "execute_result",
          "data": {
            "text/plain": [
              "(16, 28, 28, 1)"
            ]
          },
          "metadata": {
            "tags": []
          },
          "execution_count": 46
        }
      ]
    },
    {
      "cell_type": "code",
      "metadata": {
        "colab": {
          "base_uri": "https://localhost:8080/"
        },
        "id": "pM-yNdeK4tBu",
        "outputId": "754cfa70-ea40-425b-a7dd-f45be44218d5"
      },
      "source": [
        "y_real_lebels = np.ones([count_real_images, 1])\r\n",
        "y_real_lebels.shape"
      ],
      "execution_count": 47,
      "outputs": [
        {
          "output_type": "execute_result",
          "data": {
            "text/plain": [
              "(16, 1)"
            ]
          },
          "metadata": {
            "tags": []
          },
          "execution_count": 47
        }
      ]
    },
    {
      "cell_type": "markdown",
      "metadata": {
        "id": "PYdHBgNi4yss"
      },
      "source": [
        "**Grab Generated Images for this training batch**"
      ]
    },
    {
      "cell_type": "code",
      "metadata": {
        "id": "N6OXHis241C6"
      },
      "source": [
        "LATENT_SPACE_SIZE = 100\r\n",
        "def sample_latent_space(instances):\r\n",
        "        return np.random.normal(0, 1, (instances, LATENT_SPACE_SIZE))"
      ],
      "execution_count": 48,
      "outputs": []
    },
    {
      "cell_type": "code",
      "metadata": {
        "colab": {
          "base_uri": "https://localhost:8080/"
        },
        "id": "kC1EbwPr46CE",
        "outputId": "940a30f4-2fa5-43a7-b77e-c04653776af5"
      },
      "source": [
        "# Grab Generated Images for this training batch\r\n",
        "latent_space_samples = sample_latent_space(count_real_images)\r\n",
        "latent_space_samples.shape"
      ],
      "execution_count": 49,
      "outputs": [
        {
          "output_type": "execute_result",
          "data": {
            "text/plain": [
              "(16, 100)"
            ]
          },
          "metadata": {
            "tags": []
          },
          "execution_count": 49
        }
      ]
    },
    {
      "cell_type": "code",
      "metadata": {
        "id": "tDPZDKku49HV"
      },
      "source": [
        "x_generated_images = generator.predict(latent_space_samples)"
      ],
      "execution_count": 50,
      "outputs": []
    },
    {
      "cell_type": "code",
      "metadata": {
        "colab": {
          "base_uri": "https://localhost:8080/"
        },
        "id": "_2rNsRcx5BL5",
        "outputId": "49cb2c3e-4927-4517-b77c-f679205f382a"
      },
      "source": [
        "y_generated_labels = np.zeros([32-count_real_images,1])\r\n",
        "y_generated_labels.shape"
      ],
      "execution_count": 51,
      "outputs": [
        {
          "output_type": "execute_result",
          "data": {
            "text/plain": [
              "(16, 1)"
            ]
          },
          "metadata": {
            "tags": []
          },
          "execution_count": 51
        }
      ]
    },
    {
      "cell_type": "code",
      "metadata": {
        "colab": {
          "base_uri": "https://localhost:8080/"
        },
        "id": "TfG2GQLN5HnE",
        "outputId": "892481f2-066e-4169-e8c4-0b3b7ea58ca0"
      },
      "source": [
        "print(y_generated_labels[0], y_real_lebels[0])"
      ],
      "execution_count": 52,
      "outputs": [
        {
          "output_type": "stream",
          "text": [
            "[0.] [1.]\n"
          ],
          "name": "stdout"
        }
      ]
    },
    {
      "cell_type": "code",
      "metadata": {
        "id": "_qNTvUQT5QOM"
      },
      "source": [
        "# Combine to train on the discriminator\r\n",
        "x_batch = np.concatenate( [x_real_images, x_generated_images] )\r\n",
        "y_batch = np.concatenate( [y_real_lebels, y_generated_labels] )"
      ],
      "execution_count": 53,
      "outputs": []
    },
    {
      "cell_type": "markdown",
      "metadata": {
        "id": "s-bv98iw5WaE"
      },
      "source": [
        "**Train Adversarial Net**"
      ]
    },
    {
      "cell_type": "code",
      "metadata": {
        "colab": {
          "base_uri": "https://localhost:8080/"
        },
        "id": "o4ZzA8hJ5YEk",
        "outputId": "a9a650b1-d8fe-44f6-b59c-5f09eeb4749a"
      },
      "source": [
        "\r\n",
        "# Now, train the discriminator with this batch\r\n",
        "discriminator_loss = discriminator.train_on_batch(x_batch,y_batch)\r\n",
        "print(\"ok\")"
      ],
      "execution_count": 54,
      "outputs": [
        {
          "output_type": "stream",
          "text": [
            "ok\n"
          ],
          "name": "stdout"
        }
      ]
    },
    {
      "cell_type": "code",
      "metadata": {
        "colab": {
          "base_uri": "https://localhost:8080/"
        },
        "id": "QOWgwRVr5gCb",
        "outputId": "0d595ef0-d12f-4dc5-9212-9c9f52523743"
      },
      "source": [
        "# Generate Noise\r\n",
        "x_latent_space_samples = sample_latent_space(32)\r\n",
        "y_generated_labels = np.ones([32,1])\r\n",
        "y_generated_labels.shape"
      ],
      "execution_count": 55,
      "outputs": [
        {
          "output_type": "execute_result",
          "data": {
            "text/plain": [
              "(32, 1)"
            ]
          },
          "metadata": {
            "tags": []
          },
          "execution_count": 55
        }
      ]
    },
    {
      "cell_type": "code",
      "metadata": {
        "id": "v9bZ4VtB5joX"
      },
      "source": [
        "gan.compile(loss='binary_crossentropy', optimizer=\"adam\")"
      ],
      "execution_count": 57,
      "outputs": []
    },
    {
      "cell_type": "code",
      "metadata": {
        "id": "6z9tO4qe6Lhv"
      },
      "source": [
        "generator_loss = gan.train_on_batch(x_latent_space_samples, y_generated_labels)"
      ],
      "execution_count": 58,
      "outputs": []
    },
    {
      "cell_type": "code",
      "metadata": {
        "colab": {
          "base_uri": "https://localhost:8080/"
        },
        "id": "M39Z5-Zf6PTH",
        "outputId": "b8afdad5-94d4-4718-9cbf-e941e03afc62"
      },
      "source": [
        "print ('Epoch: '+str(int(1))+', [Discriminator :: Loss:'+str(discriminator_loss)+'], [ Generator :: Loss:'+str(generator_loss)+']')"
      ],
      "execution_count": 59,
      "outputs": [
        {
          "output_type": "stream",
          "text": [
            "Epoch: 1, [Discriminator :: Loss:0.7271832823753357], [ Generator :: Loss:0.9174883365631104]\n"
          ],
          "name": "stdout"
        }
      ]
    }
  ]
}